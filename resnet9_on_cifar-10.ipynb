{
 "cells": [
  {
   "cell_type": "code",
   "execution_count": 1,
   "metadata": {},
   "outputs": [],
   "source": [
    "import os\n",
    "import torch as tc\n",
    "import torchvision\n",
    "import torchvision.transforms as tt\n",
    "import tarfile\n",
    "from torchvision.datasets.utils import download_url\n",
    "from torch.utils.data import random_split"
   ]
  },
  {
   "attachments": {},
   "cell_type": "markdown",
   "metadata": {},
   "source": [
    "# Dowloading and extracting the dataset"
   ]
  },
  {
   "cell_type": "code",
   "execution_count": 2,
   "metadata": {},
   "outputs": [
    {
     "name": "stdout",
     "output_type": "stream",
     "text": [
      "Using downloaded and verified file: .\\cifar10.tgz\n"
     ]
    }
   ],
   "source": [
    "try:\n",
    "    if(not os.path.exists('./cifar10')):\n",
    "        dataset_url = \"https://s3.amazonaws.com/fast-ai-imageclas/cifar10.tgz\"\n",
    "        download_url(dataset_url, '.')\n",
    "        with tarfile.open('./cifar10.tgz', 'r:gz') as tar:\n",
    "            tar.extractall(path='./data')\n",
    "    else:\n",
    "        print('Dataset already downloaded')\n",
    "except:\n",
    "    print('Error while downloading the dataset')"
   ]
  },
  {
   "cell_type": "code",
   "execution_count": 3,
   "metadata": {},
   "outputs": [
    {
     "name": "stdout",
     "output_type": "stream",
     "text": [
      "10\n"
     ]
    }
   ],
   "source": [
    "print(len(os.listdir('./data/cifar10/train')))"
   ]
  },
  {
   "cell_type": "code",
   "execution_count": 4,
   "metadata": {},
   "outputs": [
    {
     "name": "stdout",
     "output_type": "stream",
     "text": [
      "['airplane', 'automobile', 'bird', 'cat', 'deer', 'dog', 'frog', 'horse', 'ship', 'truck']\n"
     ]
    }
   ],
   "source": [
    "data_dir = './data/cifar10'\n",
    "classes = os.listdir(data_dir + \"/train\")\n",
    "print(classes)"
   ]
  },
  {
   "cell_type": "code",
   "execution_count": 5,
   "metadata": {},
   "outputs": [
    {
     "name": "stdout",
     "output_type": "stream",
     "text": [
      "Number of training images of airplane:  5000\n"
     ]
    }
   ],
   "source": [
    "print('Number of training images of airplane: ', len(os.listdir(data_dir + \"/train/airplane\")))"
   ]
  },
  {
   "cell_type": "code",
   "execution_count": 6,
   "metadata": {},
   "outputs": [
    {
     "name": "stdout",
     "output_type": "stream",
     "text": [
      "Number of test images of airplane:  1000\n"
     ]
    }
   ],
   "source": [
    "print('Number of test images of airplane: ', len(os.listdir(data_dir + \"/test/airplane\")))"
   ]
  },
  {
   "attachments": {},
   "cell_type": "markdown",
   "metadata": {},
   "source": [
    "# Channel wise data normalization and Data Augmentation"
   ]
  },
  {
   "cell_type": "code",
   "execution_count": 7,
   "metadata": {},
   "outputs": [],
   "source": [
    "from torchvision.datasets import ImageFolder\n",
    "from torchvision.transforms import ToTensor"
   ]
  },
  {
   "cell_type": "code",
   "execution_count": 8,
   "metadata": {},
   "outputs": [],
   "source": [
    "# defining mean and standard deviation for R,G and B channels\n",
    "stats = ((0.4914,0.4822,.4465),(.2023,.1944,.2010))\n",
    "\n",
    "# Applying augmentation \n",
    "train_tfm = tt.Compose([tt.RandomCrop(32,padding=4,padding_mode='reflect'),tt.RandomHorizontalFlip(),tt.RandomRotation(degrees=5),tt.ToTensor(),tt.Normalize(*stats,inplace=True)])\n",
    "test_tfm = tt.Compose([tt.ToTensor(),tt.Normalize(*stats,inplace=True)])"
   ]
  },
  {
   "cell_type": "code",
   "execution_count": 9,
   "metadata": {},
   "outputs": [
    {
     "data": {
      "text/plain": [
       "Dataset ImageFolder\n",
       "    Number of datapoints: 50000\n",
       "    Root location: ./data/cifar10/train\n",
       "    StandardTransform\n",
       "Transform: Compose(\n",
       "               RandomCrop(size=(32, 32), padding=4)\n",
       "               RandomHorizontalFlip(p=0.5)\n",
       "               RandomRotation(degrees=[-5.0, 5.0], interpolation=nearest, expand=False, fill=0)\n",
       "               ToTensor()\n",
       "               Normalize(mean=(0.4914, 0.4822, 0.4465), std=(0.2023, 0.1944, 0.201))\n",
       "           )"
      ]
     },
     "execution_count": 9,
     "metadata": {},
     "output_type": "execute_result"
    }
   ],
   "source": [
    "train = ImageFolder(data_dir+'/train', transform=train_tfm)\n",
    "test = ImageFolder(data_dir+'/test', transform=test_tfm)\n",
    "train"
   ]
  },
  {
   "attachments": {},
   "cell_type": "markdown",
   "metadata": {},
   "source": [
    "Thus, there are 10 classes inside train folder where each class consist of 5000 images while test consist of only 10000 images.  "
   ]
  },
  {
   "cell_type": "code",
   "execution_count": 10,
   "metadata": {},
   "outputs": [
    {
     "data": {
      "text/plain": [
       "(tensor([[[-2.4291,  1.6999,  1.6805,  ..., -2.4291, -2.4291, -2.4291],\n",
       "          [-2.4291,  1.6224,  1.6030,  ...,  1.8162,  1.7968,  1.7775],\n",
       "          [-2.4291,  1.6999,  1.6805,  ...,  1.7387,  1.6999,  1.6805],\n",
       "          ...,\n",
       "          [ 2.3009,  2.3009,  2.3202,  ..., -1.2272, -1.1497, -2.4291],\n",
       "          [ 2.2427,  2.2815,  2.3009,  ..., -1.1690, -1.1109, -2.4291],\n",
       "          [-2.4291, -2.4291, -2.4291,  ..., -1.1884, -1.0140, -2.4291]],\n",
       " \n",
       "         [[-2.4805,  1.8365,  1.8163,  ..., -2.4805, -2.4805, -2.4805],\n",
       "          [-2.4805,  1.7558,  1.7356,  ...,  1.9777,  1.9575,  1.9374],\n",
       "          [-2.4805,  1.8365,  1.8163,  ...,  1.8970,  1.8567,  1.8365],\n",
       "          ...,\n",
       "          [ 2.3812,  2.4215,  2.4417,  ..., -1.2499, -1.1692, -2.4805],\n",
       "          [ 2.3610,  2.4013,  2.4013,  ..., -1.2297, -1.1692, -2.4805],\n",
       "          [-2.4805, -2.4805, -2.4805,  ..., -1.2297, -1.0482, -2.4805]],\n",
       " \n",
       "         [[-2.2214,  1.8367,  1.8172,  ..., -2.2214, -2.2214, -2.2214],\n",
       "          [-2.2214,  1.7392,  1.7197,  ...,  2.0514,  2.0123,  1.9928],\n",
       "          [-2.2214,  1.8367,  1.8172,  ...,  1.9538,  1.8953,  1.8758],\n",
       "          ...,\n",
       "          [ 2.5391,  2.5781,  2.6172,  ..., -0.9727, -0.9142, -2.2214],\n",
       "          [ 2.5586,  2.5976,  2.5976,  ..., -0.9532, -0.8752, -2.2214],\n",
       "          [-2.2214, -2.2214, -2.2214,  ..., -0.9727, -0.7971, -2.2214]]]),\n",
       " 0)"
      ]
     },
     "execution_count": 10,
     "metadata": {},
     "output_type": "execute_result"
    }
   ],
   "source": [
    "train[0]"
   ]
  },
  {
   "attachments": {},
   "cell_type": "markdown",
   "metadata": {},
   "source": [
    "# Plotting a sample image"
   ]
  },
  {
   "cell_type": "code",
   "execution_count": 11,
   "metadata": {},
   "outputs": [
    {
     "name": "stderr",
     "output_type": "stream",
     "text": [
      "Clipping input data to the valid range for imshow with RGB data ([0..1] for floats or [0..255] for integers).\n"
     ]
    },
    {
     "data": {
      "image/png": "[encoded data removed]",
      "text/plain": [
       "<Figure size 432x288 with 1 Axes>"
      ]
     },
     "metadata": {
      "needs_background": "light"
     },
     "output_type": "display_data"
    }
   ],
   "source": [
    "import matplotlib.pyplot as plt\n",
    "for data in train:\n",
    "    plt.imshow(data[0].permute(1,2,0))\n",
    "    plt.show()\n",
    "    break"
   ]
  },
  {
   "attachments": {},
   "cell_type": "markdown",
   "metadata": {},
   "source": [
    "# Making batches of 128 for train and 256 for test set"
   ]
  },
  {
   "cell_type": "code",
   "execution_count": 12,
   "metadata": {},
   "outputs": [],
   "source": [
    "trainset = tc.utils.data.DataLoader(train, batch_size=200, shuffle=True)\n",
    "testset = tc.utils.data.DataLoader(test, batch_size=200*2, shuffle=True)"
   ]
  },
  {
   "cell_type": "code",
   "execution_count": 13,
   "metadata": {},
   "outputs": [
    {
     "data": {
      "text/plain": [
       "<torch.utils.data.dataloader.DataLoader at 0x279b94cf0d0>"
      ]
     },
     "execution_count": 13,
     "metadata": {},
     "output_type": "execute_result"
    }
   ],
   "source": [
    "trainset"
   ]
  },
  {
   "cell_type": "code",
   "execution_count": 14,
   "metadata": {},
   "outputs": [
    {
     "name": "stdout",
     "output_type": "stream",
     "text": [
      "[tensor([[[[-2.4291e+00, -2.4291e+00, -2.4291e+00,  ...,  1.6224e+00,\n",
      "            1.5836e+00, -2.4291e+00],\n",
      "          [ 9.0514e-01,  1.1378e+00,  1.1184e+00,  ...,  2.2621e+00,\n",
      "            2.2039e+00, -2.4291e+00],\n",
      "          [ 1.2541e+00,  1.2928e+00,  1.2928e+00,  ...,  2.2621e+00,\n",
      "            2.2427e+00, -2.4291e+00],\n",
      "          ...,\n",
      "          [-2.4291e+00,  1.2347e+00,  1.1571e+00,  ...,  1.6224e+00,\n",
      "            1.3316e+00,  1.7193e+00],\n",
      "          [-2.4291e+00,  1.2928e+00,  1.2735e+00,  ...,  1.6805e+00,\n",
      "            1.3122e+00,  1.8162e+00],\n",
      "          [-2.4291e+00,  6.3375e-01,  7.6945e-01,  ..., -2.4291e+00,\n",
      "           -2.4291e+00, -2.4291e+00]],\n",
      "\n",
      "         [[-2.4805e+00, -2.4805e+00, -2.4805e+00,  ...,  1.7962e+00,\n",
      "            1.7356e+00, -2.4805e+00],\n",
      "          [ 1.2515e+00,  1.4734e+00,  1.4532e+00,  ...,  2.4215e+00,\n",
      "            2.3408e+00, -2.4805e+00],\n",
      "          [ 1.5944e+00,  1.6348e+00,  1.6348e+00,  ...,  2.4013e+00,\n",
      "            2.3610e+00, -2.4805e+00],\n",
      "          ...,\n",
      "          [-2.4805e+00,  1.4734e+00,  1.3725e+00,  ...,  1.8365e+00,\n",
      "            1.5339e+00,  1.9374e+00],\n",
      "          [-2.4805e+00,  1.4129e+00,  1.3322e+00,  ...,  1.8365e+00,\n",
      "            1.4532e+00,  1.9979e+00],\n",
      "          [-2.4805e+00,  4.2441e-01,  5.2528e-01,  ..., -2.4805e+00,\n",
      "           -2.4805e+00, -2.4805e+00]],\n",
      "\n",
      "         [[-2.2214e+00, -2.2214e+00, -2.2214e+00,  ...,  1.9343e+00,\n",
      "            1.8758e+00, -2.2214e+00],\n",
      "          [ 1.8758e+00,  2.1099e+00,  2.1489e+00,  ...,  2.5391e+00,\n",
      "            2.4611e+00, -2.2214e+00],\n",
      "          [ 1.6612e+00,  1.7197e+00,  1.7587e+00,  ...,  2.5391e+00,\n",
      "            2.5196e+00, -2.2214e+00],\n",
      "          ...,\n",
      "          [-2.2214e+00,  1.7587e+00,  1.5831e+00,  ...,  1.9538e+00,\n",
      "            1.6612e+00,  2.0514e+00],\n",
      "          [-2.2214e+00,  1.4856e+00,  1.3100e+00,  ...,  1.8758e+00,\n",
      "            1.5051e+00,  2.0123e+00],\n",
      "          [-2.2214e+00,  3.9299e-01,  3.9299e-01,  ..., -2.2214e+00,\n",
      "           -2.2214e+00, -2.2214e+00]]],\n",
      "\n",
      "\n",
      "        [[[-2.4291e+00, -2.4291e+00, -2.4291e+00,  ..., -1.3047e+00,\n",
      "           -1.3047e+00, -2.4291e+00],\n",
      "          [ 1.1959e+00,  1.2347e+00,  1.2541e+00,  ..., -1.2854e+00,\n",
      "           -1.1497e+00, -2.4291e+00],\n",
      "          [ 1.1959e+00,  1.2347e+00,  1.2347e+00,  ..., -1.3047e+00,\n",
      "           -1.3047e+00, -2.4291e+00],\n",
      "          ...,\n",
      "          [-2.4291e+00, -1.6103e-01, -3.7426e-01,  ...,  1.3434e-02,\n",
      "           -1.0288e-01,  1.3434e-02],\n",
      "          [-2.4291e+00, -6.4106e-02, -1.0288e-01,  ...,  1.2974e-01,\n",
      "           -4.4721e-02,  1.2974e-01],\n",
      "          [-2.4291e+00, -8.3491e-02, -8.3491e-02,  ..., -2.4291e+00,\n",
      "           -2.4291e+00, -2.4291e+00]],\n",
      "\n",
      "         [[-2.4805e+00, -2.4805e+00, -2.4805e+00,  ..., -1.0280e+00,\n",
      "           -1.0078e+00, -2.4805e+00],\n",
      "          [ 1.8768e+00,  1.8365e+00,  1.8163e+00,  ..., -1.0280e+00,\n",
      "           -8.6664e-01, -2.4805e+00],\n",
      "          [ 1.8365e+00,  1.8163e+00,  1.7962e+00,  ..., -1.0280e+00,\n",
      "           -1.0078e+00, -2.4805e+00],\n",
      "          ...,\n",
      "          [-2.4805e+00,  3.4372e-01,  1.4200e-01,  ...,  5.0510e-01,\n",
      "            3.6390e-01,  5.0510e-01],\n",
      "          [-2.4805e+00,  4.6476e-01,  4.2441e-01,  ...,  6.2614e-01,\n",
      "            4.2441e-01,  6.2614e-01],\n",
      "          [-2.4805e+00,  4.4459e-01,  4.4459e-01,  ..., -2.4805e+00,\n",
      "           -2.4805e+00, -2.4805e+00]],\n",
      "\n",
      "         [[-2.2214e+00, -2.2214e+00, -2.2214e+00,  ..., -7.5812e-01,\n",
      "           -7.5812e-01, -2.2214e+00],\n",
      "          [ 2.6172e+00,  2.5586e+00,  2.5391e+00,  ..., -7.5812e-01,\n",
      "           -6.0204e-01, -2.2214e+00],\n",
      "          [ 2.5391e+00,  2.5586e+00,  2.5781e+00,  ..., -7.5812e-01,\n",
      "           -7.5812e-01, -2.2214e+00],\n",
      "          ...,\n",
      "          [-2.2214e+00,  9.5878e-01,  7.4417e-01,  ...,  9.5878e-01,\n",
      "            9.0025e-01,  9.5878e-01],\n",
      "          [-2.2214e+00,  1.0954e+00,  1.0563e+00,  ...,  1.0563e+00,\n",
      "            9.3927e-01,  1.0563e+00],\n",
      "          [-2.2214e+00,  1.0758e+00,  1.0563e+00,  ..., -2.2214e+00,\n",
      "           -2.2214e+00, -2.2214e+00]]],\n",
      "\n",
      "\n",
      "        [[[ 2.3590e+00,  2.2039e+00,  2.3590e+00,  ...,  2.4365e+00,\n",
      "            2.2815e+00,  2.0682e+00],\n",
      "          [ 2.2815e+00,  2.1070e+00,  2.2815e+00,  ...,  2.3396e+00,\n",
      "            2.1845e+00,  1.9519e+00],\n",
      "          [ 2.1845e+00,  2.0295e+00,  2.1845e+00,  ...,  2.2427e+00,\n",
      "            2.0682e+00,  1.8356e+00],\n",
      "          ...,\n",
      "          [ 1.6030e+00,  1.5448e+00,  1.6030e+00,  ...,  1.5836e+00,\n",
      "            1.4867e+00,  1.4479e+00],\n",
      "          [ 1.5061e+00,  1.4479e+00,  1.5061e+00,  ...,  1.4091e+00,\n",
      "            1.2735e+00,  1.1959e+00],\n",
      "          [ 1.3510e+00,  1.3122e+00,  1.3510e+00,  ...,  1.2347e+00,\n",
      "            1.0990e+00,  1.0214e+00]],\n",
      "\n",
      "         [[ 2.5224e+00,  2.4215e+00,  2.5224e+00,  ...,  2.3408e+00,\n",
      "            2.1391e+00,  1.9777e+00],\n",
      "          [ 2.4619e+00,  2.3408e+00,  2.4619e+00,  ...,  2.2198e+00,\n",
      "            2.0382e+00,  1.8567e+00],\n",
      "          [ 2.3812e+00,  2.3005e+00,  2.3812e+00,  ...,  2.1391e+00,\n",
      "            1.9575e+00,  1.7760e+00],\n",
      "          ...,\n",
      "          [ 1.8365e+00,  1.8365e+00,  1.8365e+00,  ...,  1.5541e+00,\n",
      "            1.5137e+00,  1.4734e+00],\n",
      "          [ 1.7760e+00,  1.7760e+00,  1.7760e+00,  ...,  1.4129e+00,\n",
      "            1.3322e+00,  1.2918e+00],\n",
      "          [ 1.6348e+00,  1.6549e+00,  1.6348e+00,  ...,  1.2313e+00,\n",
      "            1.1708e+00,  1.1103e+00]],\n",
      "\n",
      "         [[ 2.7147e+00,  2.6367e+00,  2.7147e+00,  ...,  2.6952e+00,\n",
      "            2.5586e+00,  2.4025e+00],\n",
      "          [ 2.6952e+00,  2.5976e+00,  2.6952e+00,  ...,  2.6172e+00,\n",
      "            2.4806e+00,  2.2855e+00],\n",
      "          [ 2.6562e+00,  2.5781e+00,  2.6562e+00,  ...,  2.5586e+00,\n",
      "            2.3830e+00,  2.1879e+00],\n",
      "          ...,\n",
      "          [ 1.8563e+00,  1.8367e+00,  1.8563e+00,  ...,  1.6612e+00,\n",
      "            1.6221e+00,  1.5831e+00],\n",
      "          [ 1.7977e+00,  1.7782e+00,  1.7977e+00,  ...,  1.5051e+00,\n",
      "            1.4465e+00,  1.3880e+00],\n",
      "          [ 1.6612e+00,  1.6612e+00,  1.6612e+00,  ...,  1.3100e+00,\n",
      "            1.2709e+00,  1.2124e+00]]],\n",
      "\n",
      "\n",
      "        ...,\n",
      "\n",
      "\n",
      "        [[[-5.2934e-01, -3.7426e-01, -3.3549e-01,  ..., -1.2226e-01,\n",
      "           -6.4106e-02,  4.2052e-01],\n",
      "          [-3.3549e-01, -3.7426e-01, -3.7426e-01,  ..., -2.5336e-02,\n",
      "           -2.5336e-02,  9.0974e-02],\n",
      "          [-2.1919e-01, -1.0288e-01, -4.4721e-02,  ..., -1.8042e-01,\n",
      "           -1.2226e-01, -2.5336e-02],\n",
      "          ...,\n",
      "          [ 1.0990e+00,  1.2541e+00,  1.4091e+00,  ...,  1.6851e-01,\n",
      "            2.4605e-01,  1.8790e-01],\n",
      "          [ 6.5314e-01,  8.2760e-01,  1.0796e+00,  ...,  2.4605e-01,\n",
      "            2.4605e-01,  2.2667e-01],\n",
      "          [ 5.9498e-01,  7.3068e-01,  6.9191e-01,  ..., -1.2226e-01,\n",
      "            1.3434e-02, -8.3491e-02]],\n",
      "\n",
      "         [[-3.0180e-01, -1.8077e-01, -1.4042e-01,  ...,  4.1132e-02,\n",
      "            1.0165e-01,  4.8493e-01],\n",
      "          [-1.2025e-01, -2.2111e-01, -2.2111e-01,  ...,  1.4200e-01,\n",
      "            1.4200e-01,  1.8234e-01],\n",
      "          [ 7.8676e-04,  8.1477e-02,  1.4200e-01,  ..., -3.9559e-02,\n",
      "            2.0959e-02,  1.0165e-01],\n",
      "          ...,\n",
      "          [ 1.1910e+00,  1.3524e+00,  1.5137e+00,  ...,  3.4372e-01,\n",
      "            4.0424e-01,  3.0338e-01],\n",
      "          [ 7.8752e-01,  9.4890e-01,  1.2111e+00,  ...,  4.2441e-01,\n",
      "            4.2441e-01,  4.0424e-01],\n",
      "          [ 7.2700e-01,  8.6821e-01,  8.0769e-01,  ...,  4.1132e-02,\n",
      "            2.0251e-01,  1.4200e-01]],\n",
      "\n",
      "         [[-9.3371e-01, -7.1910e-01, -6.4106e-01,  ..., -7.3861e-01,\n",
      "           -7.9714e-01, -4.0694e-01],\n",
      "          [-6.8008e-01, -6.0204e-01, -5.6302e-01,  ..., -5.6302e-01,\n",
      "           -6.6057e-01, -6.2155e-01],\n",
      "          [-5.8253e-01, -3.2889e-01, -2.3134e-01,  ..., -6.2155e-01,\n",
      "           -6.6057e-01, -6.2155e-01],\n",
      "          ...,\n",
      "          [ 5.8809e-01,  7.4417e-01,  9.5878e-01,  ...,  2.7802e-03,\n",
      "            1.1984e-01,  1.1984e-01],\n",
      "          [-9.4771e-02,  1.3935e-01,  4.3201e-01,  ...,  6.1311e-02,\n",
      "            6.1311e-02,  1.9788e-01],\n",
      "          [-2.1183e-01, -1.6730e-02, -1.6730e-02,  ..., -3.2889e-01,\n",
      "           -2.3134e-01, -1.7281e-01]]],\n",
      "\n",
      "\n",
      "        [[[-2.4291e+00,  5.9498e-01,  5.9498e-01,  ..., -2.4291e+00,\n",
      "           -2.4291e+00, -2.4291e+00],\n",
      "          [-2.4291e+00,  5.3683e-01,  5.3683e-01,  ...,  6.5314e-01,\n",
      "            6.3375e-01,  6.5314e-01],\n",
      "          [-2.4291e+00,  5.9498e-01,  5.9498e-01,  ...,  6.1437e-01,\n",
      "            5.9498e-01,  6.3375e-01],\n",
      "          ...,\n",
      "          [-8.7827e-01, -8.9766e-01, -9.1704e-01,  ..., -9.3643e-01,\n",
      "           -9.5581e-01, -2.4291e+00],\n",
      "          [-9.3643e-01, -1.0140e+00, -9.3643e-01,  ..., -8.5889e-01,\n",
      "           -8.9766e-01, -2.4291e+00],\n",
      "          [-2.4291e+00, -2.4291e+00, -2.4291e+00,  ..., -8.7827e-01,\n",
      "           -9.1704e-01, -2.4291e+00]],\n",
      "\n",
      "         [[-2.4805e+00,  9.4890e-01,  9.4890e-01,  ..., -2.4805e+00,\n",
      "           -2.4805e+00, -2.4805e+00],\n",
      "          [-2.4805e+00,  8.8838e-01,  8.8838e-01,  ...,  9.6908e-01,\n",
      "            9.4890e-01,  9.8925e-01],\n",
      "          [-2.4805e+00,  9.4890e-01,  9.4890e-01,  ...,  9.6908e-01,\n",
      "            9.4890e-01,  9.6908e-01],\n",
      "          ...,\n",
      "          [-4.4301e-01, -4.6318e-01, -4.6318e-01,  ..., -4.2284e-01,\n",
      "           -4.6318e-01, -2.4805e+00],\n",
      "          [-5.0353e-01, -5.6405e-01, -4.8336e-01,  ..., -4.4301e-01,\n",
      "           -5.0353e-01, -2.4805e+00],\n",
      "          [-2.4805e+00, -2.4805e+00, -2.4805e+00,  ..., -4.4301e-01,\n",
      "           -5.0353e-01, -2.4805e+00]],\n",
      "\n",
      "         [[-2.2214e+00,  1.2709e+00,  1.2709e+00,  ..., -2.2214e+00,\n",
      "           -2.2214e+00, -2.2214e+00],\n",
      "          [-2.2214e+00,  1.2124e+00,  1.2124e+00,  ...,  1.2709e+00,\n",
      "            1.2514e+00,  1.2709e+00],\n",
      "          [-2.2214e+00,  1.2709e+00,  1.2709e+00,  ...,  1.2905e+00,\n",
      "            1.2709e+00,  1.2905e+00],\n",
      "          ...,\n",
      "          [ 2.7802e-03,  2.7802e-03,  2.7802e-03,  ...,  4.1801e-02,\n",
      "            2.2291e-02, -2.2214e+00],\n",
      "          [-5.5751e-02, -1.3379e-01, -3.6240e-02,  ...,  2.7802e-03,\n",
      "           -3.6240e-02, -2.2214e+00],\n",
      "          [-2.2214e+00, -2.2214e+00, -2.2214e+00,  ...,  2.2291e-02,\n",
      "           -3.6240e-02, -2.2214e+00]]],\n",
      "\n",
      "\n",
      "        [[[-8.7827e-01, -8.2012e-01, -8.0073e-01,  ..., -1.1884e+00,\n",
      "           -1.1690e+00, -1.1884e+00],\n",
      "          [-8.7827e-01, -8.3950e-01, -8.0073e-01,  ..., -1.1690e+00,\n",
      "           -1.1497e+00, -1.1690e+00],\n",
      "          [-8.7827e-01, -8.2012e-01, -8.0073e-01,  ..., -1.1884e+00,\n",
      "           -1.1690e+00, -1.1884e+00],\n",
      "          ...,\n",
      "          [ 5.5621e-01,  1.3510e+00,  2.2621e+00,  ..., -8.3491e-02,\n",
      "            7.1589e-02, -8.3491e-02],\n",
      "          [ 6.9191e-01,  1.6418e+00,  1.8162e+00,  ..., -1.1497e+00,\n",
      "            1.3434e-02, -1.1497e+00],\n",
      "          [ 8.0822e-01,  1.8744e+00,  1.7387e+00,  ..., -1.3241e+00,\n",
      "            1.4913e-01, -1.3241e+00]],\n",
      "\n",
      "         [[-9.4733e-01, -8.8681e-01, -8.6664e-01,  ..., -1.1692e+00,\n",
      "           -1.1491e+00, -1.1692e+00],\n",
      "          [-9.4733e-01, -9.0698e-01, -8.8681e-01,  ..., -1.1692e+00,\n",
      "           -1.1491e+00, -1.1692e+00],\n",
      "          [-9.4733e-01, -8.8681e-01, -8.6664e-01,  ..., -1.1692e+00,\n",
      "           -1.1491e+00, -1.1692e+00],\n",
      "          ...,\n",
      "          [-1.0008e-01,  1.1506e+00,  2.3005e+00,  ..., -4.6318e-01,\n",
      "           -3.6232e-01, -4.6318e-01],\n",
      "          [-1.9386e-02,  1.3927e+00,  1.7558e+00,  ..., -1.3104e+00,\n",
      "           -4.4301e-01, -1.3104e+00],\n",
      "          [ 1.0165e-01,  1.6751e+00,  1.5944e+00,  ..., -1.4718e+00,\n",
      "           -3.4215e-01, -1.4718e+00]],\n",
      "\n",
      "         [[-7.9714e-01, -7.3861e-01, -7.3861e-01,  ..., -1.0118e+00,\n",
      "           -9.9224e-01, -1.0118e+00],\n",
      "          [-7.9714e-01, -7.5812e-01, -7.5812e-01,  ..., -9.7273e-01,\n",
      "           -9.5322e-01, -9.7273e-01],\n",
      "          [-7.9714e-01, -7.3861e-01, -7.3861e-01,  ..., -1.0118e+00,\n",
      "           -9.9224e-01, -1.0118e+00],\n",
      "          ...,\n",
      "          [-3.8743e-01,  9.5878e-01,  2.2855e+00,  ..., -4.8498e-01,\n",
      "           -4.4596e-01, -4.8498e-01],\n",
      "          [-2.7036e-01,  1.1539e+00,  1.7197e+00,  ..., -1.0898e+00,\n",
      "           -5.4351e-01, -1.0898e+00],\n",
      "          [-1.7281e-01,  1.4270e+00,  1.5636e+00,  ..., -1.2654e+00,\n",
      "           -4.4596e-01, -1.2654e+00]]]]), tensor([1, 8, 9, 5, 9, 9, 6, 1, 8, 7, 1, 3, 8, 2, 7, 3, 1, 9, 8, 1, 3, 0, 0, 5,\n",
      "        8, 9, 3, 7, 5, 6, 0, 7, 2, 0, 4, 4, 3, 6, 0, 6, 6, 0, 9, 3, 7, 8, 3, 6,\n",
      "        9, 7, 8, 0, 2, 1, 1, 7, 8, 0, 7, 0, 1, 9, 6, 9, 3, 4, 3, 7, 8, 4, 9, 9,\n",
      "        9, 0, 5, 2, 5, 2, 2, 4, 8, 3, 9, 8, 1, 6, 6, 2, 6, 8, 6, 3, 5, 3, 8, 5,\n",
      "        8, 6, 2, 2, 6, 6, 9, 6, 2, 2, 1, 4, 8, 6, 2, 4, 5, 8, 7, 2, 9, 9, 6, 5,\n",
      "        2, 6, 4, 0, 8, 0, 7, 0, 9, 3, 5, 2, 3, 4, 2, 6, 0, 0, 5, 2, 4, 6, 9, 6,\n",
      "        9, 3, 7, 7, 8, 0, 2, 7, 2, 7, 6, 1, 6, 3, 2, 0, 2, 6, 1, 0, 0, 3, 7, 0,\n",
      "        4, 6, 9, 9, 3, 6, 9, 3, 5, 6, 3, 4, 1, 2, 4, 7, 1, 4, 1, 5, 8, 3, 7, 9,\n",
      "        1, 5, 6, 2, 7, 6, 8, 2])]\n"
     ]
    }
   ],
   "source": [
    "for data in trainset:\n",
    "    print(data)\n",
    "    break"
   ]
  },
  {
   "cell_type": "code",
   "execution_count": 15,
   "metadata": {},
   "outputs": [
    {
     "data": {
      "text/plain": [
       "tensor([1, 8, 9, 5, 9, 9, 6, 1, 8, 7, 1, 3, 8, 2, 7, 3, 1, 9, 8, 1, 3, 0, 0, 5,\n",
       "        8, 9, 3, 7, 5, 6, 0, 7, 2, 0, 4, 4, 3, 6, 0, 6, 6, 0, 9, 3, 7, 8, 3, 6,\n",
       "        9, 7, 8, 0, 2, 1, 1, 7, 8, 0, 7, 0, 1, 9, 6, 9, 3, 4, 3, 7, 8, 4, 9, 9,\n",
       "        9, 0, 5, 2, 5, 2, 2, 4, 8, 3, 9, 8, 1, 6, 6, 2, 6, 8, 6, 3, 5, 3, 8, 5,\n",
       "        8, 6, 2, 2, 6, 6, 9, 6, 2, 2, 1, 4, 8, 6, 2, 4, 5, 8, 7, 2, 9, 9, 6, 5,\n",
       "        2, 6, 4, 0, 8, 0, 7, 0, 9, 3, 5, 2, 3, 4, 2, 6, 0, 0, 5, 2, 4, 6, 9, 6,\n",
       "        9, 3, 7, 7, 8, 0, 2, 7, 2, 7, 6, 1, 6, 3, 2, 0, 2, 6, 1, 0, 0, 3, 7, 0,\n",
       "        4, 6, 9, 9, 3, 6, 9, 3, 5, 6, 3, 4, 1, 2, 4, 7, 1, 4, 1, 5, 8, 3, 7, 9,\n",
       "        1, 5, 6, 2, 7, 6, 8, 2])"
      ]
     },
     "execution_count": 15,
     "metadata": {},
     "output_type": "execute_result"
    }
   ],
   "source": [
    "# Output labels for a single batch\n",
    "data[1]"
   ]
  },
  {
   "attachments": {},
   "cell_type": "markdown",
   "metadata": {},
   "source": [
    "# Making the Resnet9 architecture"
   ]
  },
  {
   "cell_type": "code",
   "execution_count": 16,
   "metadata": {},
   "outputs": [],
   "source": [
    "import torch as tc\n",
    "import torch.nn as nn\n",
    "import torch.nn.functional as F"
   ]
  },
  {
   "cell_type": "code",
   "execution_count": 17,
   "metadata": {},
   "outputs": [],
   "source": [
    "def conv_block(in_channels,out_channels,pool=False):\n",
    "    layers = [nn.Conv2d(in_channels,out_channels,kernel_size=3,padding=1),nn.BatchNorm2d(out_channels),nn.ReLU(inplace=True)]\n",
    "    if pool : layers.append(nn.MaxPool2d((2)))\n",
    "    return nn.Sequential(*layers)"
   ]
  },
  {
   "cell_type": "code",
   "execution_count": 18,
   "metadata": {},
   "outputs": [
    {
     "name": "stdout",
     "output_type": "stream",
     "text": [
      "Resnet9(\n",
      "  (conv1): Sequential(\n",
      "    (0): Conv2d(3, 64, kernel_size=(3, 3), stride=(1, 1), padding=(1, 1))\n",
      "    (1): BatchNorm2d(64, eps=1e-05, momentum=0.1, affine=True, track_running_stats=True)\n",
      "    (2): ReLU(inplace=True)\n",
      "  )\n",
      "  (conv2): Sequential(\n",
      "    (0): Conv2d(64, 128, kernel_size=(3, 3), stride=(1, 1), padding=(1, 1))\n",
      "    (1): BatchNorm2d(128, eps=1e-05, momentum=0.1, affine=True, track_running_stats=True)\n",
      "    (2): ReLU(inplace=True)\n",
      "    (3): MaxPool2d(kernel_size=2, stride=2, padding=0, dilation=1, ceil_mode=False)\n",
      "  )\n",
      "  (res1): Sequential(\n",
      "    (0): Sequential(\n",
      "      (0): Conv2d(128, 128, kernel_size=(3, 3), stride=(1, 1), padding=(1, 1))\n",
      "      (1): BatchNorm2d(128, eps=1e-05, momentum=0.1, affine=True, track_running_stats=True)\n",
      "      (2): ReLU(inplace=True)\n",
      "    )\n",
      "    (1): Sequential(\n",
      "      (0): Conv2d(128, 128, kernel_size=(3, 3), stride=(1, 1), padding=(1, 1))\n",
      "      (1): BatchNorm2d(128, eps=1e-05, momentum=0.1, affine=True, track_running_stats=True)\n",
      "      (2): ReLU(inplace=True)\n",
      "    )\n",
      "  )\n",
      "  (conv3): Sequential(\n",
      "    (0): Conv2d(128, 256, kernel_size=(3, 3), stride=(1, 1), padding=(1, 1))\n",
      "    (1): BatchNorm2d(256, eps=1e-05, momentum=0.1, affine=True, track_running_stats=True)\n",
      "    (2): ReLU(inplace=True)\n",
      "    (3): MaxPool2d(kernel_size=2, stride=2, padding=0, dilation=1, ceil_mode=False)\n",
      "  )\n",
      "  (conv4): Sequential(\n",
      "    (0): Conv2d(256, 512, kernel_size=(3, 3), stride=(1, 1), padding=(1, 1))\n",
      "    (1): BatchNorm2d(512, eps=1e-05, momentum=0.1, affine=True, track_running_stats=True)\n",
      "    (2): ReLU(inplace=True)\n",
      "    (3): MaxPool2d(kernel_size=2, stride=2, padding=0, dilation=1, ceil_mode=False)\n",
      "  )\n",
      "  (res2): Sequential(\n",
      "    (0): Sequential(\n",
      "      (0): Conv2d(512, 512, kernel_size=(3, 3), stride=(1, 1), padding=(1, 1))\n",
      "      (1): BatchNorm2d(512, eps=1e-05, momentum=0.1, affine=True, track_running_stats=True)\n",
      "      (2): ReLU(inplace=True)\n",
      "    )\n",
      "    (1): Sequential(\n",
      "      (0): Conv2d(512, 512, kernel_size=(3, 3), stride=(1, 1), padding=(1, 1))\n",
      "      (1): BatchNorm2d(512, eps=1e-05, momentum=0.1, affine=True, track_running_stats=True)\n",
      "      (2): ReLU(inplace=True)\n",
      "    )\n",
      "  )\n",
      "  (classifier): Sequential(\n",
      "    (0): MaxPool2d(kernel_size=4, stride=4, padding=0, dilation=1, ceil_mode=False)\n",
      "    (1): Flatten(start_dim=1, end_dim=-1)\n",
      "    (2): Dropout(p=0.2, inplace=False)\n",
      "    (3): Linear(in_features=512, out_features=10, bias=True)\n",
      "  )\n",
      ")\n"
     ]
    }
   ],
   "source": [
    "class Resnet9(nn.Module):\n",
    "    def __init__(self):\n",
    "        super().__init__()\n",
    "        self.conv1 = conv_block(3,64)\n",
    "        self.conv2 = conv_block(64,128,pool=True)\n",
    "        self.res1 = nn.Sequential(conv_block(128,128),conv_block(128,128))\n",
    "        self.conv3 = conv_block(128,256,pool=True)\n",
    "        self.conv4 = conv_block(256,512,pool=True)\n",
    "        self.res2 = nn.Sequential(conv_block(512,512),conv_block(512,512))  # current shape is 512 x 4 x 4 \n",
    "        self.classifier = nn.Sequential(nn.MaxPool2d(4),                    # maxpool makes it shape to 512 x 1 x 1 \n",
    "            nn.Flatten(),nn.Dropout(0.2),nn.Linear(512,10))\n",
    "\n",
    "    # feed forward layer\n",
    "    def forward(self,x):\n",
    "        out = self.conv1(x)\n",
    "        out = self.conv2(out)\n",
    "        out = self.res1(out) + out\n",
    "        out = self.conv3(out)\n",
    "        out = self.conv4(out)\n",
    "        out = self.res2(out) + out\n",
    "        out = self.classifier(out)\n",
    "        return out\n",
    "\n",
    "net = Resnet9()\n",
    "print(net)"
   ]
  },
  {
   "attachments": {},
   "cell_type": "markdown",
   "metadata": {},
   "source": [
    "# Defining optimizer and loss function"
   ]
  },
  {
   "cell_type": "code",
   "execution_count": 19,
   "metadata": {},
   "outputs": [
    {
     "name": "stdout",
     "output_type": "stream",
     "text": [
      "Epoch : 0, Loss : 1.231236457824707\n",
      "Epoch : 1, Loss : 0.8764959573745728\n",
      "Epoch : 2, Loss : 0.884991466999054\n",
      "Epoch : 3, Loss : 0.5757851600646973\n",
      "Epoch : 4, Loss : 0.42878445982933044\n",
      "Epoch : 5, Loss : 0.30203917622566223\n",
      "Epoch : 6, Loss : 0.3248789310455322\n",
      "Epoch : 7, Loss : 0.24234546720981598\n"
     ]
    }
   ],
   "source": [
    "import torch.optim as optim\n",
    "\n",
    "Epochs = 8\n",
    "max_lr = 0.01\n",
    "grad_clip = 0.1\n",
    "wt_decay = 1e-4\n",
    "optimizer = optim.Adam(net.parameters(),lr=max_lr,weight_decay=wt_decay)\n",
    "sched = tc.optim.lr_scheduler.OneCycleLR(optimizer,max_lr,epochs=Epochs,steps_per_epoch=len(trainset))\n",
    "\n",
    "for epoch in range(Epochs):\n",
    "    for data in trainset:\n",
    "        x, y = data[0],data[1]\n",
    "\n",
    "        # assigning weights to be zero\n",
    "        net.zero_grad()\n",
    "        outputs = net(x)\n",
    "        loss = F.cross_entropy(outputs,y)\n",
    "        loss.backward()\n",
    "        optimizer.step()\n",
    "\n",
    "        # Gradient clipping\n",
    "        nn.utils.clip_grad_value_(net.parameters(),grad_clip)\n",
    "        \n",
    "        # Update learning rate\n",
    "        sched.step()\n",
    "    \n",
    "    print(f'Epoch : {epoch}, Loss : {loss}')"
   ]
  },
  {
   "attachments": {},
   "cell_type": "markdown",
   "metadata": {},
   "source": [
    "# Testing the model"
   ]
  },
  {
   "cell_type": "code",
   "execution_count": 23,
   "metadata": {},
   "outputs": [
    {
     "name": "stdout",
     "output_type": "stream",
     "text": [
      "Validation accuracy is given as :  0.92\n"
     ]
    }
   ],
   "source": [
    "correct = 0\n",
    "total = 0\n",
    "\n",
    "with tc.no_grad():\n",
    "    for data in testset:\n",
    "        i = 0\n",
    "        x, y = data[0],data[1]\n",
    "        outputs = net(x)[i]\n",
    "        if(tc.argmax(outputs) == y[i]):\n",
    "            correct += 1\n",
    "        i+=1\n",
    "        total += 1\n",
    "\n",
    "print('Validation accuracy is given as : ',(correct/total))"
   ]
  },
  {
   "attachments": {},
   "cell_type": "markdown",
   "metadata": {},
   "source": [
    "# Thus, the total accuracy came out to be 92%."
   ]
  }
 ],
 "metadata": {
  "kernelspec": {
   "display_name": "Python 3",
   "language": "python",
   "name": "python3"
  },
  "language_info": {
   "codemirror_mode": {
    "name": "ipython",
    "version": 3
   },
   "file_extension": ".py",
   "mimetype": "text/x-python",
   "name": "python",
   "nbconvert_exporter": "python",
   "pygments_lexer": "ipython3",
   "version": "3.10.4"
  },
  "orig_nbformat": 4,
  "vscode": {
   "interpreter": {
    "hash": "80ba4016e8ec853d7b55d6915013d2adae47c4b5f908295f8089a04cc277b65d"
   }
  }
 },
 "nbformat": 4,
 "nbformat_minor": 2
}
